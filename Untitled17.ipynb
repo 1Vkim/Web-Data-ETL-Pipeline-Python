{
  "nbformat": 4,
  "nbformat_minor": 0,
  "metadata": {
    "colab": {
      "provenance": [],
      "authorship_tag": "ABX9TyPdDyqoNee8YVwza55pa885",
      "include_colab_link": true
    },
    "kernelspec": {
      "name": "python3",
      "display_name": "Python 3"
    },
    "language_info": {
      "name": "python"
    }
  },
  "cells": [
    {
      "cell_type": "markdown",
      "metadata": {
        "id": "view-in-github",
        "colab_type": "text"
      },
      "source": [
        "<a href=\"https://colab.research.google.com/github/1Vkim/Web-Data-ETL-Pipeline-Python/blob/main/Untitled17.ipynb\" target=\"_parent\"><img src=\"https://colab.research.google.com/assets/colab-badge.svg\" alt=\"Open In Colab\"/></a>"
      ]
    },
    {
      "cell_type": "code",
      "source": [
        "# use command for installing beautifulsoup and nltk: pip install beautifulsoup4 nltk\n",
        "\n",
        "import requests\n",
        "from bs4 import BeautifulSoup\n",
        "from nltk.corpus import stopwords\n",
        "from collections import Counter\n",
        "import pandas as pd\n",
        "import nltk\n",
        "nltk.download('stopwords')"
      ],
      "metadata": {
        "colab": {
          "base_uri": "https://localhost:8080/"
        },
        "id": "wznQSteazKdc",
        "outputId": "0a6c3c10-ca0d-4eda-91d1-3beb14d90946"
      },
      "execution_count": null,
      "outputs": [
        {
          "output_type": "stream",
          "name": "stderr",
          "text": [
            "[nltk_data] Downloading package stopwords to /root/nltk_data...\n",
            "[nltk_data]   Unzipping corpora/stopwords.zip.\n"
          ]
        },
        {
          "output_type": "execute_result",
          "data": {
            "text/plain": [
              "True"
            ]
          },
          "metadata": {},
          "execution_count": 1
        }
      ]
    },
    {
      "cell_type": "code",
      "execution_count": null,
      "metadata": {
        "id": "tzxCU-CSy6eC"
      },
      "outputs": [],
      "source": [
        "#Scraping function.\n",
        "\n",
        "class WebScraper:\n",
        "    def __init__(self, url):\n",
        "        self.url = url\n",
        "\n",
        "    def extract_article_text(self):\n",
        "        response = requests.get(self.url)\n",
        "        html_content = response.content\n",
        "        soup = BeautifulSoup(html_content, \"html.parser\")\n",
        "        article_text = soup.get_text()\n",
        "        return article_text"
      ]
    },
    {
      "cell_type": "code",
      "source": [
        "#Processing func\n",
        "class TextProcessor:\n",
        "    def __init__(self, nltk_stopwords):\n",
        "        self.nltk_stopwords = nltk_stopwords\n",
        "\n",
        "    def tokenize_and_clean(self, text):\n",
        "        words = text.split()\n",
        "        filtered_words = [word.lower() for word in words if word.isalpha() and word.lower() not in self.nltk_stopwords]\n",
        "        return filtered_words"
      ],
      "metadata": {
        "id": "-E_ywo8LzQ1-"
      },
      "execution_count": null,
      "outputs": []
    },
    {
      "cell_type": "code",
      "source": [
        "class ETLPipeline:\n",
        "    def __init__(self, url):\n",
        "        self.url = url\n",
        "        self.nltk_stopwords = set(stopwords.words(\"english\"))\n",
        "\n",
        "    def run(self):\n",
        "        scraper = WebScraper(self.url)\n",
        "        article_text = scraper.extract_article_text()\n",
        "\n",
        "        processor = TextProcessor(self.nltk_stopwords)\n",
        "        filtered_words = processor.tokenize_and_clean(article_text)\n",
        "\n",
        "        word_freq = Counter(filtered_words)\n",
        "        df = pd.DataFrame(word_freq.items(), columns=[\"Words\", \"Frequencies\"])\n",
        "        df = df.sort_values(by=\"Frequencies\", ascending=False)\n",
        "        return df"
      ],
      "metadata": {
        "id": "LoQSt1GkzcAI"
      },
      "execution_count": null,
      "outputs": []
    },
    {
      "cell_type": "code",
      "source": [
        "if __name__ == \"__main__\":\n",
        "    article_url = \"https://www.ft.com/content/ae104fce-0576-4ff0-a7ec-a0eed7849e97\"\n",
        "    pipeline = ETLPipeline(article_url)\n",
        "    result_df = pipeline.run()\n",
        "    print(result_df.head())"
      ],
      "metadata": {
        "colab": {
          "base_uri": "https://localhost:8080/"
        },
        "id": "eSpjnpBSzjCC",
        "outputId": "2c20284b-94d4-4139-9928-6b1a32c0553e"
      },
      "execution_count": null,
      "outputs": [
        {
          "output_type": "stream",
          "name": "stdout",
          "text": [
            "              Words  Frequencies\n",
            "247         digital           29\n",
            "275           print           26\n",
            "255            news           23\n",
            "160              ft           22\n",
            "256  analysisexpert           22\n"
          ]
        }
      ]
    }
  ]
}